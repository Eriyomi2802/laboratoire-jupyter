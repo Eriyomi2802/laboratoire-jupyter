{
 "cells": [
  {
   "cell_type": "markdown",
   "id": "ede4c2b9-17e8-4bbe-a07a-da99af75bc22",
   "metadata": {},
   "source": [
    " Notebook Data Science Tools and Ecosystem\n"
   ]
  },
  {
   "cell_type": "markdown",
   "id": "e766e079-56c5-4020-b789-fe2b741e3ad6",
   "metadata": {},
   "source": [
    "In this notebook, Data Science Tools and Ecosystem are summarized."
   ]
  },
  {
   "cell_type": "markdown",
   "id": "fb6479ec-7979-4ecc-91e6-dedb7b6d26b5",
   "metadata": {},
   "source": [
    " Objectives\n",
    "\n",
    "- Unordered list\n",
    "- List popular languages for Data Science\n",
    "- Data Science Tools\n",
    "- Some of the commonly used librairies used by Data Scientists\n",
    "\n",
    "\n"
   ]
  },
  {
   "cell_type": "markdown",
   "id": "1bde1684-d19f-4276-b40c-61dcf0d6e8e0",
   "metadata": {},
   "source": [
    "Some of the popular languages that Data Scientists use are:\n",
    "\n",
    "- Python\n",
    "- R\n",
    "- Julia"
   ]
  },
  {
   "cell_type": "markdown",
   "id": "8515c3dd-c531-49bf-abd6-bf4bc2463bd8",
   "metadata": {},
   "source": [
    "Some of the commonly used libraries used by Data Scientists include:\n",
    "\n",
    "- Pandas\n",
    "- NumPy\n",
    "- Scikit-learn\n"
   ]
  },
  {
   "cell_type": "markdown",
   "id": "8cc086d6-7027-4d66-93d9-8097f4669ae9",
   "metadata": {},
   "source": [
    " Data Science Tools\n",
    "\n",
    "| Tool          | Description                      |\n",
    "|---------------|----------------------------------|\n",
    "| Jupyter       | Interactive computing            |\n",
    "| TensorFlow    | Deep learning library            |\n",
    "| Matplotlib    | Plotting library                 |\n"
   ]
  },
  {
   "cell_type": "markdown",
   "id": "93c54228-d077-4677-bd43-02c4a3c18497",
   "metadata": {},
   "source": [
    "Below are a few examples of evaluating arithmetic expressions in Python"
   ]
  },
  {
   "cell_type": "markdown",
   "id": "0337f35f-0aa8-4492-b759-b383396b8d5b",
   "metadata": {},
   "source": [
    "(3*4)+5\n",
    "\n",
    "This a simple arithmetic expression to mutiply then add integers.\n",
    "\n",
    "result =12+5=17\n",
    "\n"
   ]
  },
  {
   "cell_type": "markdown",
   "id": "3057c3d8-d37a-4d94-847b-1bde9864b6ef",
   "metadata": {},
   "source": [
    "Convert minutes to hours\n",
    "\n",
    "This will convert 200 minutes to hours by diving by 60.\n",
    "\n",
    "minutes = 200\n",
    "\n",
    "hours = minutes / 60\n",
    "\n",
    "hours = 200/60\n",
    "\n",
    "result=3.33 hours\n"
   ]
  },
  {
   "cell_type": "markdown",
   "id": "36d8dbbe-be54-4d38-9e61-d65243571844",
   "metadata": {},
   "source": [
    "Author\n",
    "\n",
    "CAKPOSSE Eriyomi Phestece Chancelle \n"
   ]
  },
  {
   "cell_type": "code",
   "execution_count": null,
   "id": "e7f97826-3fd8-41f5-baab-1b8255e814ca",
   "metadata": {},
   "outputs": [],
   "source": []
  }
 ],
 "metadata": {
  "kernelspec": {
   "display_name": "Python",
   "language": "python",
   "name": "conda-env-python-py"
  },
  "language_info": {
   "codemirror_mode": {
    "name": "ipython",
    "version": 3
   },
   "file_extension": ".py",
   "mimetype": "text/x-python",
   "name": "python",
   "nbconvert_exporter": "python",
   "pygments_lexer": "ipython3",
   "version": "3.7.12"
  }
 },
 "nbformat": 4,
 "nbformat_minor": 5
}
